{
  "cells": [
    {
      "cell_type": "raw",
      "metadata": {},
      "source": [
        "---\n",
        "title: \"Matheus Ferreira\"\n",
        "size: 12\n",
        "image: imagens/eu.JPG\n",
        "about: \n",
        "  template: jolla\n",
        "  image-shape: round\n",
        "  image-width: 15em\n",
        "  links:\n",
        "    - text: LinkedIn\n",
        "      href: https://www.linkedin.com/in/matheus-ferreira-20417916/\n",
        "    - text: Twitter\n",
        "      href: https://twitter.com/matferreira19\n",
        "    - text: GitHub\n",
        "      href: https://github.com/mathpol\n",
        "    - text: Email\n",
        "      href: mailto:ferreira.dcp@gmail.com\n",
        "    - text: Lattes\n",
        "      href: http://lattes.cnpq.br/1749611392497058\n",
        "    - text: CV\n",
        "      href: https://drive.google.com/file/d/1GmAlq_iBww2Jx0nakCj_ZvY_U38BTaBd/view?usp=sharing\n",
        "---"
      ],
      "id": "d3bf431e"
    },
    {
      "cell_type": "markdown",
      "metadata": {},
      "source": [
        "```{css, echo = FALSE}\n",
        ".justify {\n",
        "  text-align: justify !important\n",
        "}\n",
        "```\n",
        "\n",
        "\n",
        "\n",
        "# **Apresentação**\n",
        "\n",
        "Bolsista de Pós-Doutorado na UFSC (FAPESC - CNPq). Doutor em Ciência Política pela [UFMG](http://ppgcp.fafich.ufmg.br/index.php) e pesquisador do Centro de Estudos do Comportamento Político ([CECOMP - UFMG](https://twitter.com/cecomp_br)) e do Núcleo Interdisciplinar de Políticas Públicas ([NIPP - UFSC](https://nipp.ufsc.br/)). Atuou como cientista de dados na [Incentiv](https://incentiv.me/), no [OddsPointer](https://oddspointer.com/) e como pesquisador na Diretoria de Políticas Públicas da Fundação João Pinheiro ([FJP](http://fjp.mg.gov.br/agenda-diretoria-de-politicas-publicas/)). Atuou como professor substituto na [UFJF](https://www.ufjf.br/graduacaocienciassociais/) e no [IFRS](https://ifrs.edu.br/riogrande/). Atualmente cursa o MBA em Data Science e Analytics na USP ESALQ.\n",
        "\n",
        "<!-- quarto publish quarto-pub -->"
      ],
      "id": "e73cc298"
    }
  ],
  "metadata": {
    "kernelspec": {
      "display_name": "Python 3",
      "language": "python",
      "name": "python3"
    }
  },
  "nbformat": 4,
  "nbformat_minor": 5
}