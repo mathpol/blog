{
  "cells": [
    {
      "cell_type": "raw",
      "metadata": {},
      "source": [
        "---\n",
        "title: \"Matheus Ferreira\"\n",
        "image: imagens/eu.JPEG\n",
        "about: \n",
        "  template: trestles\n",
        "  image-shape: round\n",
        "  image-width: 15em\n",
        "  links:\n",
        "    - text: LinkedIn\n",
        "      href: https://www.linkedin.com/in/matheus-ferreira-20417916/\n",
        "    - text: Twitter\n",
        "      href: https://twitter.com/matferreira19\n",
        "    - text: GitHub\n",
        "      href: https://github.com/mathpol\n",
        "    - text: Email\n",
        "      href: mailto:ferreira.dcp@gmail.com\n",
        "    - text: Lattes\n",
        "      href: http://lattes.cnpq.br/1749611392497058\n",
        "    - text: CV\n",
        "      href: https://drive.google.com/file/d/1-SNhRy6TVPA5ipUJVhv6483ioPgGiaOE/view?usp=sharing\n",
        "---"
      ],
      "id": "e0a78a07"
    },
    {
      "cell_type": "markdown",
      "metadata": {},
      "source": [
        "# **Apresentação**\n",
        "\n",
        "Pesquisador CNPq SET-C na [INCENTIV.ME](https://site.incentiv.me/). Doutor em Ciência Política pela [UFMG](http://ppgcp.fafich.ufmg.br/index.php) e pesquisador do Centro de Estudos do Comportamento Político ([CECOMP](https://twitter.com/cecomp_br)). Cientista de dados no [OddsPointer](https://oddspointer.com/). Atuou como pesquisador na Diretoria de Políticas Públicas da Fundação João Pinheiro ([FJP](http://fjp.mg.gov.br/agenda-diretoria-de-politicas-publicas/)) e como professor substituto na [UFJF](https://www.ufjf.br/graduacaocienciassociais/) e no [IFRS](https://ifrs.edu.br/riogrande/). Possui mestrado e bacharelado em Ciências Sociais (Ciência Política) pela UFJF. Áreas de interesse: Eleições, Comportamento Político, Opinião Pública, Ciências Sociais Computacionais, Metodologia de Pesquisa e Transparência nas Ciências Sociais. Atualmente cursa o MBA em Data Science e Analytics na USP ESALQ.\n",
        "\n",
        "<!-- quarto publish quarto-pub -->\n",
        "\n",
        "\n",
        "```{css, echo=FALSE}\n",
        ".title {\n",
        "  font-size: 100px;\n",
        "  font-style: bold;\n",
        "  color: black;\n",
        "  font-family: Arial;\n",
        "  font-variant: small-caps;\n",
        "}\n",
        "```"
      ],
      "id": "815fee81"
    }
  ],
  "metadata": {
    "kernelspec": {
      "display_name": "Python 3",
      "language": "python",
      "name": "python3"
    }
  },
  "nbformat": 4,
  "nbformat_minor": 5
}